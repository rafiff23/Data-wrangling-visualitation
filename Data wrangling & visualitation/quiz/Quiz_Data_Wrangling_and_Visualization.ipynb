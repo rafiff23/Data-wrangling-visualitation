{
 "cells": [
  {
   "cell_type": "markdown",
   "metadata": {},
   "source": [
    "# Quiz: Data Wrangling and Visualization\n",
    "\n",
    "Congratulations on completing the Data Wrangling and Visualization course! We will conduct an assessment quiz to test your competencies about the material that you have learned in the course. The quiz is expected to be taken in the classroom, please contact our teaching team if you missed the chance to take it in class."
   ]
  },
  {
   "cell_type": "code",
   "execution_count": null,
   "metadata": {},
   "outputs": [],
   "source": [
    "import pandas as pd\n",
    "import numpy as np\n",
    "import matplotlib as plt"
   ]
  },
  {
   "cell_type": "code",
   "execution_count": null,
   "metadata": {},
   "outputs": [],
   "source": [
    "pd.__version__"
   ]
  },
  {
   "cell_type": "markdown",
   "metadata": {},
   "source": [
    "> **Warning**: Please make sure that you `pandas` version is 1.3.4 "
   ]
  },
  {
   "cell_type": "markdown",
   "metadata": {},
   "source": [
    "\n",
    "\n",
    "## Data Preparation\n",
    "\n",
    "In this quiz, the data we're going to use is **the invoice summary of transaction data** of an online retail shop provided from UCI Machine Learning [repository](https://archive.ics.uci.edu/ml/datasets/online+retail). All the transactions occurred between the end of 2010 to end of 2011 for a UK-based and registered non-store online retail:\n",
    "\n",
    "- `InvoiceNo`: unique invoice ID\n",
    "- `TotalPrice`: total price from the transactions\n",
    "- `UniqueItem`: number of the unique items bought per transaction/invoice\n",
    "- `CustomerID`: customer identification\n",
    "- `Country`: customer's country origin\n",
    "- `InvoiceDate`: date of transaction"
   ]
  },
  {
   "cell_type": "code",
   "execution_count": null,
   "metadata": {
    "scrolled": true
   },
   "outputs": [],
   "source": [
    "invoice = pd.read_csv('data_input/retail_invoice.csv',index_col='InvoiceNo')\n",
    "invoice.head()"
   ]
  },
  {
   "cell_type": "markdown",
   "metadata": {},
   "source": [
    "Before you go any further, check the data type of each column using `dtypes` and make sure all of our columns have stored in the correct data type!"
   ]
  },
  {
   "cell_type": "code",
   "execution_count": null,
   "metadata": {},
   "outputs": [],
   "source": [
    "## Your code here\n"
   ]
  },
  {
   "cell_type": "markdown",
   "metadata": {},
   "source": [
    "The company is planning for expansion and you were asked to observe their overseas market. Using any subsetting method you've learned, subset the data to get only **the transactions from countries (`Country`) outside the United Kingdom** and name it **`invoice_int`**!"
   ]
  },
  {
   "cell_type": "code",
   "execution_count": null,
   "metadata": {},
   "outputs": [],
   "source": [
    "## Your code here\n",
    "\n"
   ]
  },
  {
   "cell_type": "markdown",
   "metadata": {},
   "source": [
    "## Total Revenue Analysis\n",
    "\n",
    "The country with the largest total revenue will be your company's target market. Therefore, using the `invoice_int` data, create a bar chart which shows the company's **top 5** largest market countries by **total** revenue (`TotalPrice`)!\n",
    "\n",
    "*Hint*:\n",
    "- Perform aggregation using `groupby` to get the total (`sum`) of revenue (`TotalPrice`) for each country and subset only the top 5 countries with the highest value.\n",
    "- Pair the data frame with `.plot()` to get a bar chart."
   ]
  },
  {
   "cell_type": "code",
   "execution_count": null,
   "metadata": {
    "tags": []
   },
   "outputs": [],
   "source": [
    "## Your code here\n"
   ]
  },
  {
   "cell_type": "markdown",
   "metadata": {},
   "source": [
    "1. When creating a bar chart, we should also consider what order in which we will plot the bars. Sorting the bars by the right order reduce the burden on the reader to make the comparisons. In what ordering do you think the bars within the case above should be presented?\n",
    "\n",
    "    *Saat membuat diagram batang (bar plot), kita juga harus mempertimbangkan urutan batangnya. Mengurutkan batang dengan urutan yang benar mengurangi beban pembaca untuk menyimpulkan perbandingannya. Menurut Anda, berdasarkan nilai apakah sebaiknya pengurutan diagram batang pada kasus di atas dilakukan?*\n",
    "\n",
    "    - [ ] by Country: `sort_values('Country', ascending = False).plot(kind='bar')`\n",
    "    - [ ] by Country: `sort_values('Country').plot(kind='barh')`\n",
    "    - [ ] by Value: `sort_values('TotalPrice', ascending=False).plot(kind='bar')`\n",
    "    - [ ] by Value: `sort_values('TotalPrice').plot()`\n",
    "\n",
    "2. From the chart you just created, which of the following is **not** among the top 5 largest markets outside the United Kingdom?\n",
    "\n",
    "    *Berdasarkan diagram yang telah dibuat, manakah di antara negara berikut yang **bukan** merupakan top 5 (berdasarkan total pendapatan) pasar terbesar di luar United Kingdom?*\n",
    "    - [ ] Netherland\n",
    "    - [ ] EIRE\n",
    "    - [ ] Germany\n",
    "    - [ ] Spain "
   ]
  },
  {
   "cell_type": "markdown",
   "metadata": {},
   "source": [
    "## Plot Replication\n",
    "\n",
    "A common way to inspect data statistically is by using boxplot, a handy visualization tool that provides five-number summary for your data. \n",
    "\n",
    "The boxplot below compares the monthly summary of each overseas market total revenue;\n",
    "- Each data point represents all of country total revenue (`TotalPrice`)\n",
    "- The x and y-axis represent the monthly period and total monthly revenue respectively.\n",
    "\n",
    "![](assets/task2.png)\n",
    "\n",
    "3. From the boxplot above, which of the following statements is **TRUE**?\n",
    "\n",
    "    *Berdasarkan boxplot di atas, manakah dari pernyataan berikut yang **BENAR**?*\n",
    "    - [ ] The highest median of total market revenue in January 2011 was around 18,000 USD\n",
    "    - [ ] In 2011, the median of total monthly market revenue in February was higher than May\n",
    "    - [ ] The median revenue appeared to be highest in May 2011.\n",
    "    - [ ] In 2011, it is certain that there were more countries that happen to be outliers in April than June\n",
    "    \n",
    "    \n",
    "4. Try to recreate the boxplot above by fill in the blank codes:\n",
    "\n",
    "    *Cobalah untuk membuat ulang boxplot di atas dengan mengisi bagian kode yang hilang di bawah ini:*\n",
    "\n",
    "```\n",
    "invoice_monthly = invoice_int.copy()\n",
    "invoice_monthly['InvoiceMonth'] = invoice_monthly['InvoiceDate'].dt.to_period('M')\n",
    "\n",
    "invoice_monthly_agg = invoice_monthly.\\\n",
    "groupby(_______).\\\n",
    "agg({'TotalPrice': 'sum'}).\\\n",
    "replace(0, np.nan) # mengubah nilai 0 menjadi NaN\n",
    "\n",
    "invoice_monthly_agg.\\\n",
    "boxplot(column = _______, by=_______)\n",
    "```\n",
    "\n",
    "   - [ ] `['Country']`, `'TotalPrice'`, `'Country'`\n",
    "   - [ ] `['InvoiceMonth']`, `'TotalPrice'`, `'InvoiceMonth'`\n",
    "   - [ ] `['Country','InvoiceMonth']`, `'TotalPrice'`, `'InvoiceMonth'`\n",
    "   - [ ] `['InvoiceMonth','Country']`, `'InvoiceMonth'`, `'TotalPrice'`"
   ]
  },
  {
   "cell_type": "code",
   "execution_count": 1,
   "metadata": {},
   "outputs": [],
   "source": [
    "## Your code here\n"
   ]
  },
  {
   "cell_type": "markdown",
   "metadata": {},
   "source": [
    "## Outlier Analysis\n",
    "\n",
    "Based on the previous boxplot, we found that in June 2011, there were 3 countries with unusually high `TotalPrice`. By fill in the blank codes below, you could identify those outliers by subsetting `invoice_monthly_agg` with the maximum value/upper whisker of the boxplot:\n",
    "\n",
    "```\n",
    "june_invoice = invoice_monthly_agg.xs(key = _______, level= _______)\n",
    "june_outliers = june_invoice[june_invoice['TotalPrice'] > 13000]\n",
    "\n",
    "june_outliers\n",
    "```\n",
    "\n",
    "5. Which country is **NOT** included in `june_outliers` table/data frame?\n",
    "\n",
    "    *Manakah negara yang **TIDAK** termasuk di dalam data frame `june_outliers`?*\n",
    "   - [ ] Germany\n",
    "   - [ ] France\n",
    "   - [ ] Australia\n",
    "   - [ ] EIRE"
   ]
  },
  {
   "cell_type": "code",
   "execution_count": null,
   "metadata": {},
   "outputs": [],
   "source": [
    "## Your code here:\n"
   ]
  },
  {
   "cell_type": "markdown",
   "metadata": {},
   "source": [
    "You are asked to analyze the amount of each country's revenue per quarter contained in the `june_outliers` data. To analyze it, you are asked to create a visualization. Copy the code below to prepare the data to create the visualization:\n",
    "\n",
    "```\n",
    "invoice_q = invoice_int.copy()\n",
    "invoice_q['Quarter'] = invoice_q['InvoiceDate'].dt.to_period('Q')\n",
    "invoice_topq = invoice_q.groupby(['Country','Quarter']).\\\n",
    "                 agg({'TotalPrice' : 'sum'}).\\\n",
    "                 loc[june_outliers.axes[0],]\n",
    "invoice_topq\n",
    "```\n",
    "**Note** : Plot should be read from **left to right** and **top to bottom**\n",
    "\n",
    "6. Which of the following code shows the *most efficient* way to create **grouped bar chart** that compares **quarterly revenue growth** between each country in `invoice_topq` in order from oldest to newest quarter period ?    \n",
    "\n",
    "    *Manakah di antara kode berikut yang menunjukkan cara paling efisien untuk membuat **grouped bar chart** yang membandingkan pertumbuhan pendapatan triwulanan (quarter) dari tiap negara pada data `invoice_topq` secara terurut dari periode triwulan terlama hingga terbaru?*\n",
    "    - [ ] `invoice_topq.plot(kind='bar')`\n",
    "    - [ ] `invoice_topq.unstack().plot(kind = 'bar',stacked=True)`\n",
    "    - [ ] `invoice_topq.unstack(level = 'Country').plot(kind='barh')`\n",
    "    - [ ] `invoice_topq.unstack(level = 'Country').plot(kind='bar')`"
   ]
  },
  {
   "cell_type": "code",
   "execution_count": null,
   "metadata": {},
   "outputs": [],
   "source": [
    "## Your code here:\n"
   ]
  }
 ],
 "metadata": {
  "kernelspec": {
   "display_name": "Python 3",
   "language": "python",
   "name": "python3"
  },
  "language_info": {
   "codemirror_mode": {
    "name": "ipython",
    "version": 3
   },
   "file_extension": ".py",
   "mimetype": "text/x-python",
   "name": "python",
   "nbconvert_exporter": "python",
   "pygments_lexer": "ipython3",
   "version": "3.8.12"
  },
  "latex_envs": {
   "LaTeX_envs_menu_present": true,
   "autoclose": false,
   "autocomplete": true,
   "bibliofile": "biblio.bib",
   "cite_by": "apalike",
   "current_citInitial": 1,
   "eqLabelWithNumbers": true,
   "eqNumInitial": 1,
   "hotkeys": {
    "equation": "Ctrl-E",
    "itemize": "Ctrl-I"
   },
   "labels_anchors": false,
   "latex_user_defs": false,
   "report_style_numbering": false,
   "user_envs_cfg": false
  },
  "toc": {
   "base_numbering": 1,
   "nav_menu": {},
   "number_sections": true,
   "sideBar": true,
   "skip_h1_title": false,
   "title_cell": "Table of Contents",
   "title_sidebar": "Contents",
   "toc_cell": false,
   "toc_position": {},
   "toc_section_display": true,
   "toc_window_display": false
  }
 },
 "nbformat": 4,
 "nbformat_minor": 4
}
